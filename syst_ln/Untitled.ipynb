{
 "cells": [
  {
   "cell_type": "code",
   "execution_count": 260,
   "id": "e1ed4f7b",
   "metadata": {},
   "outputs": [],
   "source": [
    "import numpy as np"
   ]
  },
  {
   "cell_type": "code",
   "execution_count": 261,
   "id": "c872332f",
   "metadata": {},
   "outputs": [
    {
     "data": {
      "text/plain": [
       "True"
      ]
     },
     "execution_count": 261,
     "metadata": {},
     "output_type": "execute_result"
    }
   ],
   "source": [
    "zeros33=np.zeros((3,3))\n",
    "is_diag(zeros33)"
   ]
  },
  {
   "cell_type": "code",
   "execution_count": 262,
   "id": "8fde2832",
   "metadata": {},
   "outputs": [
    {
     "data": {
      "text/plain": [
       "False"
      ]
     },
     "execution_count": 262,
     "metadata": {},
     "output_type": "execute_result"
    }
   ],
   "source": [
    "ones33=np.ones((3,3))\n",
    "is_diag(ones33)"
   ]
  },
  {
   "cell_type": "code",
   "execution_count": 301,
   "id": "11b097d8",
   "metadata": {},
   "outputs": [
    {
     "data": {
      "text/plain": [
       "array([[1., 0., 0., 0., 0.],\n",
       "       [0., 1., 0., 0., 0.],\n",
       "       [0., 0., 1., 0., 0.],\n",
       "       [0., 0., 0., 1., 0.],\n",
       "       [0., 0., 0., 0., 1.]])"
      ]
     },
     "execution_count": 301,
     "metadata": {},
     "output_type": "execute_result"
    }
   ],
   "source": [
    "I=np.identity(5)\n",
    "I"
   ]
  },
  {
   "cell_type": "code",
   "execution_count": 303,
   "id": "74d97994",
   "metadata": {},
   "outputs": [
    {
     "data": {
      "text/plain": [
       "array([[1., 0., 0.],\n",
       "       [0., 1., 0.],\n",
       "       [0., 0., 1.]])"
      ]
     },
     "execution_count": 303,
     "metadata": {},
     "output_type": "execute_result"
    }
   ],
   "source": [
    "I=np.eye(3)\n",
    "I"
   ]
  },
  {
   "cell_type": "code",
   "execution_count": 304,
   "id": "72bef703",
   "metadata": {},
   "outputs": [
    {
     "data": {
      "text/plain": [
       "array([[1, 0, 0],\n",
       "       [0, 1, 0],\n",
       "       [0, 0, 1]])"
      ]
     },
     "execution_count": 304,
     "metadata": {},
     "output_type": "execute_result"
    }
   ],
   "source": [
    "I=np.eye(3,dtype=int)\n",
    "I"
   ]
  },
  {
   "cell_type": "code",
   "execution_count": 306,
   "id": "86c70acd",
   "metadata": {},
   "outputs": [
    {
     "data": {
      "text/plain": [
       "array([['1', '', ''],\n",
       "       ['', '1', ''],\n",
       "       ['', '', '1']], dtype='<U1')"
      ]
     },
     "execution_count": 306,
     "metadata": {},
     "output_type": "execute_result"
    }
   ],
   "source": [
    "I=np.identity(3,dtype=str)\n",
    "I"
   ]
  },
  {
   "cell_type": "code",
   "execution_count": 307,
   "id": "1f056f6a",
   "metadata": {},
   "outputs": [],
   "source": [
    "def is_diag(mat):\n",
    "    for i in range(mat.shape[0]):\n",
    "        for j in range(mat.shape[0]):\n",
    "            if i!=j and mat[i,j]!=0:\n",
    "                return False\n",
    "    return True       \n",
    "\n"
   ]
  },
  {
   "cell_type": "code",
   "execution_count": 308,
   "id": "3fc622f4",
   "metadata": {},
   "outputs": [],
   "source": [
    "def is_upper_triangular(mat):\n",
    "    for i in range(mat.shape[0]):\n",
    "        for j in range(0,i):\n",
    "            if mat[i,j]!=0:\n",
    "                return False\n",
    "    return True \n",
    "\n",
    "def is_lower_triangular(mat):\n",
    "    for i in range(mat.shape[0]):\n",
    "        for j in range(i-1,mat.shape[0]):\n",
    "            if mat[i,j]!=0:\n",
    "                return False\n",
    "    return True "
   ]
  },
  {
   "cell_type": "code",
   "execution_count": 265,
   "id": "747bb8a0",
   "metadata": {},
   "outputs": [
    {
     "data": {
      "text/plain": [
       "True"
      ]
     },
     "execution_count": 265,
     "metadata": {},
     "output_type": "execute_result"
    }
   ],
   "source": [
    "mat=np.array([3,1,4,0,2,6,0,0,8]).reshape((3,3))\n",
    "is_upper_triangular(mat)"
   ]
  },
  {
   "cell_type": "code",
   "execution_count": 266,
   "id": "16f8eff1",
   "metadata": {},
   "outputs": [
    {
     "data": {
      "text/plain": [
       "False"
      ]
     },
     "execution_count": 266,
     "metadata": {},
     "output_type": "execute_result"
    }
   ],
   "source": [
    "is_lower_triangular(mat)"
   ]
  },
  {
   "cell_type": "code",
   "execution_count": 267,
   "id": "5d65bf84",
   "metadata": {},
   "outputs": [
    {
     "data": {
      "text/plain": [
       "True"
      ]
     },
     "execution_count": 267,
     "metadata": {},
     "output_type": "execute_result"
    }
   ],
   "source": [
    "is_lower_triangular(zeros33)"
   ]
  },
  {
   "cell_type": "code",
   "execution_count": 268,
   "id": "eae97540",
   "metadata": {},
   "outputs": [
    {
     "data": {
      "text/plain": [
       "False"
      ]
     },
     "execution_count": 268,
     "metadata": {},
     "output_type": "execute_result"
    }
   ],
   "source": [
    "is_upper_triangular(ones33)"
   ]
  },
  {
   "cell_type": "code",
   "execution_count": 269,
   "id": "56cbc92f",
   "metadata": {},
   "outputs": [],
   "source": [
    "def is_triangular(mat):\n",
    "    return is_upper_triangular(mat) or s_lower_triangular(mat)"
   ]
  },
  {
   "cell_type": "code",
   "execution_count": 270,
   "id": "0aebfba4",
   "metadata": {},
   "outputs": [],
   "source": [
    "def is_tridiagonal(mat):\n",
    "    for i in range(mat.shape[0]):\n",
    "        for j in range(0,mat.shape[0]):\n",
    "            if j!=i and j!=i-1 and j!=i+1 and mat[i,j]!=0:\n",
    "                return False\n",
    "    return True"
   ]
  },
  {
   "cell_type": "code",
   "execution_count": 271,
   "id": "17a92736",
   "metadata": {},
   "outputs": [
    {
     "data": {
      "text/plain": [
       "True"
      ]
     },
     "execution_count": 271,
     "metadata": {},
     "output_type": "execute_result"
    }
   ],
   "source": [
    "is_tridiagonal(zeros33)"
   ]
  },
  {
   "cell_type": "code",
   "execution_count": 272,
   "id": "f93b9e9b",
   "metadata": {},
   "outputs": [
    {
     "data": {
      "text/plain": [
       "False"
      ]
     },
     "execution_count": 272,
     "metadata": {},
     "output_type": "execute_result"
    }
   ],
   "source": [
    "is_tridiagonal(ones33)"
   ]
  },
  {
   "cell_type": "code",
   "execution_count": 273,
   "id": "d0fe0d32",
   "metadata": {},
   "outputs": [
    {
     "name": "stdout",
     "output_type": "stream",
     "text": [
      "[[3 1 4]\n",
      " [0 2 6]\n",
      " [0 0 8]]\n",
      "[[3 0 0]\n",
      " [1 2 0]\n",
      " [4 6 8]]\n",
      " "
     ]
    }
   ],
   "source": [
    "print(mat)\n",
    "print(np.transpose(mat))\n",
    "mat.T#another way\n",
    "\n",
    "\n",
    "%prun for i in range(1000000):np.transpose(mat)\n",
    "#%prun for i in range(1000000):mat.T#faster"
   ]
  },
  {
   "cell_type": "code",
   "execution_count": 311,
   "id": "8d0a4223",
   "metadata": {},
   "outputs": [
    {
     "name": "stdout",
     "output_type": "stream",
     "text": [
      "False\n",
      "True\n"
     ]
    }
   ],
   "source": [
    "def is_symetric(mat):\n",
    "    return np.array_equal(mat,mat.T)\n",
    "print(is_symetric(mat))\n",
    "print(is_symetric(I))"
   ]
  },
  {
   "cell_type": "code",
   "execution_count": 274,
   "id": "4fe21ce9",
   "metadata": {},
   "outputs": [
    {
     "data": {
      "text/plain": [
       "0.0"
      ]
     },
     "execution_count": 274,
     "metadata": {},
     "output_type": "execute_result"
    }
   ],
   "source": [
    "np.linalg.det(ones33)"
   ]
  },
  {
   "cell_type": "code",
   "execution_count": 275,
   "id": "aa5b2c67",
   "metadata": {},
   "outputs": [
    {
     "name": "stdout",
     "output_type": "stream",
     "text": [
      "Help on _ArrayFunctionDispatcher in module numpy.linalg:\n",
      "\n",
      "det(a)\n",
      "    Compute the determinant of an array.\n",
      "    \n",
      "    Parameters\n",
      "    ----------\n",
      "    a : (..., M, M) array_like\n",
      "        Input array to compute determinants for.\n",
      "    \n",
      "    Returns\n",
      "    -------\n",
      "    det : (...) array_like\n",
      "        Determinant of `a`.\n",
      "    \n",
      "    See Also\n",
      "    --------\n",
      "    slogdet : Another way to represent the determinant, more suitable\n",
      "      for large matrices where underflow/overflow may occur.\n",
      "    scipy.linalg.det : Similar function in SciPy.\n",
      "    \n",
      "    Notes\n",
      "    -----\n",
      "    \n",
      "    .. versionadded:: 1.8.0\n",
      "    \n",
      "    Broadcasting rules apply, see the `numpy.linalg` documentation for\n",
      "    details.\n",
      "    \n",
      "    The determinant is computed via LU factorization using the LAPACK\n",
      "    routine ``z/dgetrf``.\n",
      "    \n",
      "    Examples\n",
      "    --------\n",
      "    The determinant of a 2-D array [[a, b], [c, d]] is ad - bc:\n",
      "    \n",
      "    >>> a = np.array([[1, 2], [3, 4]])\n",
      "    >>> np.linalg.det(a)\n",
      "    -2.0 # may vary\n",
      "    \n",
      "    Computing determinants for a stack of matrices:\n",
      "    \n",
      "    >>> a = np.array([ [[1, 2], [3, 4]], [[1, 2], [2, 1]], [[1, 3], [3, 1]] ])\n",
      "    >>> a.shape\n",
      "    (3, 2, 2)\n",
      "    >>> np.linalg.det(a)\n",
      "    array([-2., -3., -8.])\n",
      "\n"
     ]
    }
   ],
   "source": [
    "help(np.linalg.det)"
   ]
  },
  {
   "cell_type": "code",
   "execution_count": 276,
   "id": "bb55cc07",
   "metadata": {},
   "outputs": [
    {
     "ename": "LinAlgError",
     "evalue": "Singular matrix",
     "output_type": "error",
     "traceback": [
      "\u001b[0;31m---------------------------------------------------------------------------\u001b[0m",
      "\u001b[0;31mLinAlgError\u001b[0m                               Traceback (most recent call last)",
      "\u001b[0;32m/tmp/ipykernel_61243/714092611.py\u001b[0m in \u001b[0;36m<module>\u001b[0;34m\u001b[0m\n\u001b[0;32m----> 1\u001b[0;31m \u001b[0mnp\u001b[0m\u001b[0;34m.\u001b[0m\u001b[0mlinalg\u001b[0m\u001b[0;34m.\u001b[0m\u001b[0minv\u001b[0m\u001b[0;34m(\u001b[0m\u001b[0mones33\u001b[0m\u001b[0;34m)\u001b[0m \u001b[0;31m#not inversible(singular matrix)\u001b[0m\u001b[0;34m\u001b[0m\u001b[0;34m\u001b[0m\u001b[0m\n\u001b[0m",
      "\u001b[0;32m~/.local/lib/python3.10/site-packages/numpy/linalg/linalg.py\u001b[0m in \u001b[0;36minv\u001b[0;34m(a)\u001b[0m\n\u001b[1;32m    559\u001b[0m     \u001b[0msignature\u001b[0m \u001b[0;34m=\u001b[0m \u001b[0;34m'D->D'\u001b[0m \u001b[0;32mif\u001b[0m \u001b[0misComplexType\u001b[0m\u001b[0;34m(\u001b[0m\u001b[0mt\u001b[0m\u001b[0;34m)\u001b[0m \u001b[0;32melse\u001b[0m \u001b[0;34m'd->d'\u001b[0m\u001b[0;34m\u001b[0m\u001b[0;34m\u001b[0m\u001b[0m\n\u001b[1;32m    560\u001b[0m     \u001b[0mextobj\u001b[0m \u001b[0;34m=\u001b[0m \u001b[0mget_linalg_error_extobj\u001b[0m\u001b[0;34m(\u001b[0m\u001b[0m_raise_linalgerror_singular\u001b[0m\u001b[0;34m)\u001b[0m\u001b[0;34m\u001b[0m\u001b[0;34m\u001b[0m\u001b[0m\n\u001b[0;32m--> 561\u001b[0;31m     \u001b[0mainv\u001b[0m \u001b[0;34m=\u001b[0m \u001b[0m_umath_linalg\u001b[0m\u001b[0;34m.\u001b[0m\u001b[0minv\u001b[0m\u001b[0;34m(\u001b[0m\u001b[0ma\u001b[0m\u001b[0;34m,\u001b[0m \u001b[0msignature\u001b[0m\u001b[0;34m=\u001b[0m\u001b[0msignature\u001b[0m\u001b[0;34m,\u001b[0m \u001b[0mextobj\u001b[0m\u001b[0;34m=\u001b[0m\u001b[0mextobj\u001b[0m\u001b[0;34m)\u001b[0m\u001b[0;34m\u001b[0m\u001b[0;34m\u001b[0m\u001b[0m\n\u001b[0m\u001b[1;32m    562\u001b[0m     \u001b[0;32mreturn\u001b[0m \u001b[0mwrap\u001b[0m\u001b[0;34m(\u001b[0m\u001b[0mainv\u001b[0m\u001b[0;34m.\u001b[0m\u001b[0mastype\u001b[0m\u001b[0;34m(\u001b[0m\u001b[0mresult_t\u001b[0m\u001b[0;34m,\u001b[0m \u001b[0mcopy\u001b[0m\u001b[0;34m=\u001b[0m\u001b[0;32mFalse\u001b[0m\u001b[0;34m)\u001b[0m\u001b[0;34m)\u001b[0m\u001b[0;34m\u001b[0m\u001b[0;34m\u001b[0m\u001b[0m\n\u001b[1;32m    563\u001b[0m \u001b[0;34m\u001b[0m\u001b[0m\n",
      "\u001b[0;32m~/.local/lib/python3.10/site-packages/numpy/linalg/linalg.py\u001b[0m in \u001b[0;36m_raise_linalgerror_singular\u001b[0;34m(err, flag)\u001b[0m\n\u001b[1;32m    110\u001b[0m \u001b[0;34m\u001b[0m\u001b[0m\n\u001b[1;32m    111\u001b[0m \u001b[0;32mdef\u001b[0m \u001b[0m_raise_linalgerror_singular\u001b[0m\u001b[0;34m(\u001b[0m\u001b[0merr\u001b[0m\u001b[0;34m,\u001b[0m \u001b[0mflag\u001b[0m\u001b[0;34m)\u001b[0m\u001b[0;34m:\u001b[0m\u001b[0;34m\u001b[0m\u001b[0;34m\u001b[0m\u001b[0m\n\u001b[0;32m--> 112\u001b[0;31m     \u001b[0;32mraise\u001b[0m \u001b[0mLinAlgError\u001b[0m\u001b[0;34m(\u001b[0m\u001b[0;34m\"Singular matrix\"\u001b[0m\u001b[0;34m)\u001b[0m\u001b[0;34m\u001b[0m\u001b[0;34m\u001b[0m\u001b[0m\n\u001b[0m\u001b[1;32m    113\u001b[0m \u001b[0;34m\u001b[0m\u001b[0m\n\u001b[1;32m    114\u001b[0m \u001b[0;32mdef\u001b[0m \u001b[0m_raise_linalgerror_nonposdef\u001b[0m\u001b[0;34m(\u001b[0m\u001b[0merr\u001b[0m\u001b[0;34m,\u001b[0m \u001b[0mflag\u001b[0m\u001b[0;34m)\u001b[0m\u001b[0;34m:\u001b[0m\u001b[0;34m\u001b[0m\u001b[0;34m\u001b[0m\u001b[0m\n",
      "\u001b[0;31mLinAlgError\u001b[0m: Singular matrix"
     ]
    }
   ],
   "source": [
    "np.linalg.inv(ones33) #not inversible(singular matrix)"
   ]
  },
  {
   "cell_type": "code",
   "execution_count": 319,
   "id": "0433bfe1",
   "metadata": {},
   "outputs": [
    {
     "name": "stdout",
     "output_type": "stream",
     "text": [
      "[[ 3 -1  2  1]\n",
      " [ 0  4 -2  3]\n",
      " [ 1  0  7  1]\n",
      " [ 0  2  0  4]]\n"
     ]
    },
    {
     "data": {
      "text/plain": [
       "190.0"
      ]
     },
     "execution_count": 319,
     "metadata": {},
     "output_type": "execute_result"
    }
   ],
   "source": [
    "K=np.array([3,-1,2,1,0,4,-2,3,1,0,7,1,0,2,0,4]).reshape((4,4))\n",
    "print(K)\n",
    "np.linalg.det(K)"
   ]
  },
  {
   "cell_type": "code",
   "execution_count": 324,
   "id": "269fba89",
   "metadata": {},
   "outputs": [
    {
     "name": "stdout",
     "output_type": "stream",
     "text": [
      "[[ 2  5  3]\n",
      " [ 1  4  2]\n",
      " [ 7  1 -2]]\n"
     ]
    },
    {
     "data": {
      "text/plain": [
       "-20.99999999999999"
      ]
     },
     "execution_count": 324,
     "metadata": {},
     "output_type": "execute_result"
    }
   ],
   "source": [
    "K=np.array([2,5,3,1,4,2,7,1,-2]).reshape((3,3))\n",
    "print(K)\n",
    "np.linalg.det(K)"
   ]
  },
  {
   "cell_type": "code",
   "execution_count": null,
   "id": "1019dfe3",
   "metadata": {},
   "outputs": [],
   "source": [
    "K=np.array([2,-1,4,3,5,0,7,4,0]).reshape((3,3))\n",
    "print(K)\n",
    "np.linalg.det(K)"
   ]
  },
  {
   "cell_type": "code",
   "execution_count": null,
   "id": "21fb9588",
   "metadata": {},
   "outputs": [],
   "source": [
    "def is_regular(mat):\n",
    "    return np.linalg.det(mat)!=0\n",
    "print(is_regular(ones33))\n",
    "print(is_regular(mat))\n",
    "print(np.linalg.det(mat))\n"
   ]
  },
  {
   "cell_type": "code",
   "execution_count": null,
   "id": "4b10b174",
   "metadata": {},
   "outputs": [],
   "source": [
    "A=np.array([1,2,5,9,7,0,-4,2,1]).reshape((3,3))\n",
    "np.linalg.inv(A)"
   ]
  },
  {
   "cell_type": "code",
   "execution_count": null,
   "id": "7167e8d7",
   "metadata": {},
   "outputs": [],
   "source": [
    "help(np.linalg.solve)"
   ]
  },
  {
   "cell_type": "code",
   "execution_count": null,
   "id": "aaeac09f",
   "metadata": {},
   "outputs": [],
   "source": [
    "A=np.array([4,-6,8,2,-6,10,-15,-3,8,-15,26,-1,2,-3,-1,62]).reshape((4,4))\n",
    "B=np.array([-6,6,-1,-13]).reshape((4,1))\n",
    "print(A)\n",
    "print(B)\n",
    "X=np.linalg.solve(A,B)\n",
    "print(X)"
   ]
  },
  {
   "cell_type": "code",
   "execution_count": null,
   "id": "00ba7890",
   "metadata": {},
   "outputs": [],
   "source": [
    "np.allclose(np.dot(A, X), B)"
   ]
  },
  {
   "cell_type": "code",
   "execution_count": null,
   "id": "c1733c51",
   "metadata": {},
   "outputs": [],
   "source": [
    "np.dot(A, X)"
   ]
  },
  {
   "cell_type": "code",
   "execution_count": null,
   "id": "787c5241",
   "metadata": {},
   "outputs": [],
   "source": [
    "np.trace(A)"
   ]
  },
  {
   "cell_type": "code",
   "execution_count": null,
   "id": "17ce57fe",
   "metadata": {},
   "outputs": [],
   "source": [
    "X=np.ones((3,3))+np.full((3,3),5.5)-A[1:4,1:4]#addition multiplication\n",
    "print(X)\n",
    "2*X"
   ]
  },
  {
   "cell_type": "code",
   "execution_count": null,
   "id": "e6ad6e05",
   "metadata": {},
   "outputs": [],
   "source": [
    "8+X-3#X+5"
   ]
  },
  {
   "cell_type": "code",
   "execution_count": null,
   "id": "d09bf46f",
   "metadata": {},
   "outputs": [],
   "source": [
    "X//2"
   ]
  },
  {
   "cell_type": "code",
   "execution_count": null,
   "id": "4c61dbe1",
   "metadata": {},
   "outputs": [],
   "source": [
    "X%2"
   ]
  },
  {
   "cell_type": "code",
   "execution_count": null,
   "id": "1776151e",
   "metadata": {},
   "outputs": [],
   "source": [
    "X**4"
   ]
  },
  {
   "cell_type": "code",
   "execution_count": null,
   "id": "de114ab4",
   "metadata": {},
   "outputs": [],
   "source": [
    "np.power(X,4)"
   ]
  },
  {
   "cell_type": "code",
   "execution_count": null,
   "id": "7fd9c37d",
   "metadata": {},
   "outputs": [],
   "source": [
    "%prun [X**4 for i in range(1000000)]"
   ]
  },
  {
   "cell_type": "code",
   "execution_count": null,
   "id": "b457d471",
   "metadata": {},
   "outputs": [],
   "source": [
    "%prun [np.power(X,4) for i in range(1000000)]#faster"
   ]
  },
  {
   "cell_type": "code",
   "execution_count": null,
   "id": "8ee476e4",
   "metadata": {},
   "outputs": [],
   "source": [
    "#X**0.3 #error\n",
    "#np.power(X,0.3)#error"
   ]
  },
  {
   "cell_type": "code",
   "execution_count": null,
   "id": "2066b38f",
   "metadata": {},
   "outputs": [],
   "source": [
    "5/X"
   ]
  },
  {
   "cell_type": "code",
   "execution_count": null,
   "id": "b1ae870d",
   "metadata": {},
   "outputs": [],
   "source": [
    "5//X"
   ]
  },
  {
   "cell_type": "code",
   "execution_count": null,
   "id": "51ddc652",
   "metadata": {},
   "outputs": [],
   "source": [
    "X**-9"
   ]
  },
  {
   "cell_type": "code",
   "execution_count": null,
   "id": "507a0ce5",
   "metadata": {},
   "outputs": [],
   "source": [
    "np.power(X,-9)"
   ]
  },
  {
   "cell_type": "code",
   "execution_count": null,
   "id": "5a8193ae",
   "metadata": {},
   "outputs": [],
   "source": [
    "A=np.arange(5)\n",
    "A"
   ]
  },
  {
   "cell_type": "code",
   "execution_count": null,
   "id": "883b233b",
   "metadata": {},
   "outputs": [],
   "source": [
    "B=np.array([[5,6,9,8,7]])\n",
    "B"
   ]
  },
  {
   "cell_type": "code",
   "execution_count": null,
   "id": "faa507b5",
   "metadata": {},
   "outputs": [],
   "source": [
    "A*B"
   ]
  },
  {
   "cell_type": "code",
   "execution_count": null,
   "id": "0421f00e",
   "metadata": {},
   "outputs": [],
   "source": [
    "A/B"
   ]
  },
  {
   "cell_type": "code",
   "execution_count": null,
   "id": "2ed74b64",
   "metadata": {},
   "outputs": [],
   "source": [
    "A//B"
   ]
  },
  {
   "cell_type": "code",
   "execution_count": null,
   "id": "6e1a67fe",
   "metadata": {},
   "outputs": [],
   "source": [
    "A%B"
   ]
  },
  {
   "cell_type": "code",
   "execution_count": null,
   "id": "51a117ff",
   "metadata": {},
   "outputs": [],
   "source": [
    "A**B"
   ]
  },
  {
   "cell_type": "code",
   "execution_count": null,
   "id": "5c942327",
   "metadata": {},
   "outputs": [],
   "source": [
    "np.power(A,B)"
   ]
  },
  {
   "cell_type": "code",
   "execution_count": null,
   "id": "f53978c4",
   "metadata": {},
   "outputs": [],
   "source": [
    "A=np.array([[5,5,8,-3,6,4,9,3,0]]).reshape(3,3)\n",
    "A"
   ]
  },
  {
   "cell_type": "code",
   "execution_count": null,
   "id": "1b6be9e8",
   "metadata": {},
   "outputs": [],
   "source": [
    "B=np.array([[1,4,8,-8,-6,2,9,2,0]]).reshape(3,3)\n",
    "B"
   ]
  },
  {
   "cell_type": "code",
   "execution_count": null,
   "id": "b9601a6c",
   "metadata": {},
   "outputs": [],
   "source": [
    "A*B #item by item product"
   ]
  },
  {
   "cell_type": "code",
   "execution_count": null,
   "id": "e3192625",
   "metadata": {},
   "outputs": [],
   "source": [
    "np.dot(A,B)#matrix product"
   ]
  },
  {
   "cell_type": "code",
   "execution_count": null,
   "id": "6aaa63da",
   "metadata": {},
   "outputs": [],
   "source": [
    "print(A)\n",
    "np.sqrt(np.abs(A))"
   ]
  },
  {
   "cell_type": "code",
   "execution_count": null,
   "id": "b0b8477f",
   "metadata": {},
   "outputs": [],
   "source": [
    "np.exp(A)"
   ]
  },
  {
   "cell_type": "code",
   "execution_count": null,
   "id": "b0be4cc1",
   "metadata": {},
   "outputs": [],
   "source": [
    "print(A)\n",
    "print(B)\n",
    "print(np.dot(A,B))#dot product A and B\n",
    "print(A@B)#The fastest way to dot product two matrixes\n",
    "print(np.matmul(A,B))#implements the @ operator\n"
   ]
  },
  {
   "cell_type": "code",
   "execution_count": null,
   "id": "5dac6116",
   "metadata": {},
   "outputs": [],
   "source": [
    "C=np.full((3,3),2)\n",
    "D=np.arange(1,10).reshape(3,3)\n",
    "print(A) \n",
    "print(B) \n",
    "print(C)\n",
    "print(D)\n",
    "print((A@B)@(C@D))\n",
    "print(A@B@C@D)\n",
    "\n",
    "np.linalg.multi_dot([A,B,C,D])"
   ]
  },
  {
   "cell_type": "code",
   "execution_count": null,
   "id": "1aa67319",
   "metadata": {},
   "outputs": [],
   "source": [
    "U=np.arange(1,6).reshape(5,1)\n",
    "V=np.array([[4,-2,3]])\n",
    "print(U.shape)\n",
    "print(V.shape)\n",
    "print(U)\n",
    "print(V)\n",
    "print(U@V)\n"
   ]
  },
  {
   "cell_type": "code",
   "execution_count": null,
   "id": "8e13e772",
   "metadata": {},
   "outputs": [],
   "source": [
    "U=np.arange(1,6).reshape(1,5)\n",
    "V=np.array([[4,-2,3,-2,6]])\n",
    "print(U.shape)\n",
    "print(V.shape)\n",
    "print(U)\n",
    "print(V)\n",
    "np.vdot(U,V)\n",
    "\n",
    "U=np.arange(1,6)\n",
    "V=np.array([[4,-2,3,-2,6]])\n",
    "np.vdot(U,V)#the doct product of the 2 vectors(their scalor product)\n"
   ]
  },
  {
   "cell_type": "code",
   "execution_count": null,
   "id": "e9ef53d8",
   "metadata": {},
   "outputs": [],
   "source": [
    "A=np.arange(1,17).reshape(4,4)\n",
    "B=np.arange(-17,-1).reshape(4,4)\n",
    "\n",
    "np.inner\n",
    "np.outer\n",
    "np.tensordot\n",
    "np.kron"
   ]
  },
  {
   "cell_type": "code",
   "execution_count": 278,
   "id": "3e885088",
   "metadata": {},
   "outputs": [
    {
     "data": {
      "text/plain": [
       "array([[ 1,  2,  3,  4],\n",
       "       [ 5,  6,  7,  8],\n",
       "       [ 9, 10, 11, 12],\n",
       "       [13, 14, 15, 16]])"
      ]
     },
     "execution_count": 278,
     "metadata": {},
     "output_type": "execute_result"
    }
   ],
   "source": [
    "np.linalg.matrix_power(A,3)\n",
    "A"
   ]
  },
  {
   "cell_type": "code",
   "execution_count": null,
   "id": "bcdc026e",
   "metadata": {},
   "outputs": [],
   "source": [
    "res=np.linalg.qr(A)\n",
    "print(res)\n",
    "print(type(res))\n",
    "print(len(res))\n",
    "for i in res :\n",
    "    print (i)\n",
    "Q,R=res\n",
    "print(Q)\n",
    "print(R)\n",
    "print(Q@R)"
   ]
  },
  {
   "cell_type": "code",
   "execution_count": 284,
   "id": "ebd90c2c",
   "metadata": {},
   "outputs": [
    {
     "name": "stdout",
     "output_type": "stream",
     "text": [
      "(array([[0., 1., 0., 0.],\n",
      "       [0., 0., 0., 1.],\n",
      "       [0., 0., 1., 0.],\n",
      "       [1., 0., 0., 0.]]), array([[ 1.        ,  0.        ,  0.        ,  0.        ],\n",
      "       [ 0.07692308,  1.        ,  0.        ,  0.        ],\n",
      "       [ 0.69230769,  0.33333333,  1.        ,  0.        ],\n",
      "       [ 0.38461538,  0.66666667, -0.5       ,  1.        ]]), array([[ 1.30000000e+01,  1.40000000e+01,  1.50000000e+01,\n",
      "         1.60000000e+01],\n",
      "       [ 0.00000000e+00,  9.23076923e-01,  1.84615385e+00,\n",
      "         2.76923077e+00],\n",
      "       [ 0.00000000e+00,  0.00000000e+00, -1.77635684e-15,\n",
      "        -1.77635684e-15],\n",
      "       [ 0.00000000e+00,  0.00000000e+00,  0.00000000e+00,\n",
      "         0.00000000e+00]]))\n",
      "<class 'tuple'>\n",
      "3\n",
      "[[0. 1. 0. 0.]\n",
      " [0. 0. 0. 1.]\n",
      " [0. 0. 1. 0.]\n",
      " [1. 0. 0. 0.]]\n",
      "[[ 1.          0.          0.          0.        ]\n",
      " [ 0.07692308  1.          0.          0.        ]\n",
      " [ 0.69230769  0.33333333  1.          0.        ]\n",
      " [ 0.38461538  0.66666667 -0.5         1.        ]]\n",
      "[[ 1.30000000e+01  1.40000000e+01  1.50000000e+01  1.60000000e+01]\n",
      " [ 0.00000000e+00  9.23076923e-01  1.84615385e+00  2.76923077e+00]\n",
      " [ 0.00000000e+00  0.00000000e+00 -1.77635684e-15 -1.77635684e-15]\n",
      " [ 0.00000000e+00  0.00000000e+00  0.00000000e+00  0.00000000e+00]]\n",
      "[[ 1.          0.          0.          0.        ]\n",
      " [ 0.07692308  1.          0.          0.        ]\n",
      " [ 0.69230769  0.33333333  1.          0.        ]\n",
      " [ 0.38461538  0.66666667 -0.5         1.        ]]\n",
      "[[ 1.30000000e+01  1.40000000e+01  1.50000000e+01  1.60000000e+01]\n",
      " [ 0.00000000e+00  9.23076923e-01  1.84615385e+00  2.76923077e+00]\n",
      " [ 0.00000000e+00  0.00000000e+00 -1.77635684e-15 -1.77635684e-15]\n",
      " [ 0.00000000e+00  0.00000000e+00  0.00000000e+00  0.00000000e+00]]\n",
      "[[ 1.  2.  3.  4.]\n",
      " [ 5.  6.  7.  8.]\n",
      " [ 9. 10. 11. 12.]\n",
      " [13. 14. 15. 16.]]\n"
     ]
    }
   ],
   "source": [
    "from scipy.linalg import lu\n",
    "res=lu(A)\n",
    "print(res)\n",
    "print(type(res))\n",
    "print(len(res))\n",
    "for i in res :\n",
    "    print (i)\n",
    "P,Q,R=res\n",
    "print(Q)\n",
    "print(R)\n",
    "print(P@Q@R)"
   ]
  },
  {
   "cell_type": "code",
   "execution_count": 286,
   "id": "f61afd39",
   "metadata": {},
   "outputs": [
    {
     "name": "stdout",
     "output_type": "stream",
     "text": [
      "[[ 1  2  3  4]\n",
      " [ 5  6  7  8]\n",
      " [ 9 10 11 12]\n",
      " [13 14 15 16]]\n"
     ]
    }
   ],
   "source": [
    "print(A)"
   ]
  },
  {
   "cell_type": "code",
   "execution_count": 293,
   "id": "284c1d54",
   "metadata": {},
   "outputs": [
    {
     "data": {
      "text/plain": [
       "array([[10.,  1.,  2.],\n",
       "       [ 1., 11.,  3.],\n",
       "       [ 2.,  3., 12.]])"
      ]
     },
     "execution_count": 293,
     "metadata": {},
     "output_type": "execute_result"
    }
   ],
   "source": [
    "A = np.array([[10, 1, 2],\n",
    "              [1, 11, 3],\n",
    "              [2, 3, 12]])\n",
    "C=np.linalg.cholesky(A)\n",
    "C@C.T"
   ]
  },
  {
   "cell_type": "code",
   "execution_count": 297,
   "id": "bbd390f3",
   "metadata": {},
   "outputs": [
    {
     "name": "stdout",
     "output_type": "stream",
     "text": [
      "3\n",
      "SVDResult(U=array([[-0.37435872,  0.81558342, -0.4412247 ],\n",
      "       [-0.57735027, -0.57735027, -0.57735027],\n",
      "       [-0.7256185 ,  0.03860509,  0.68701342]]), S=array([15.41883268,  9.38677016,  8.19439717]), Vh=array([[-0.37435872, -0.57735027, -0.7256185 ],\n",
      "       [ 0.81558342, -0.57735027,  0.03860509],\n",
      "       [-0.4412247 , -0.57735027,  0.68701342]]))\n"
     ]
    }
   ],
   "source": [
    "SVD=np.linalg.svd(A)\n",
    "print(len(SVD))\n",
    "print(SVD)"
   ]
  }
 ],
 "metadata": {
  "kernelspec": {
   "display_name": "Python 3 (ipykernel)",
   "language": "python",
   "name": "python3"
  },
  "language_info": {
   "codemirror_mode": {
    "name": "ipython",
    "version": 3
   },
   "file_extension": ".py",
   "mimetype": "text/x-python",
   "name": "python",
   "nbconvert_exporter": "python",
   "pygments_lexer": "ipython3",
   "version": "3.10.12"
  }
 },
 "nbformat": 4,
 "nbformat_minor": 5
}
