{
 "cells": [
  {
   "cell_type": "code",
   "execution_count": 8,
   "id": "fc1f71c4",
   "metadata": {},
   "outputs": [],
   "source": [
    "import numpy as np"
   ]
  },
  {
   "cell_type": "code",
   "execution_count": 9,
   "id": "63012150",
   "metadata": {},
   "outputs": [],
   "source": [
    "def mineur(A,i,j,size):\n",
    "    return np.concatenate(\n",
    "        (np.concatenate((A[0:i,0:j],A[0:i,j+1:size]),axis=1) ,\n",
    "        np.concatenate((A[i+1:size,0:j],A[i+1:size,j+1:size]),axis=1)),\n",
    "        axis=0\n",
    "    )\n",
    "\n",
    "def det(A):\n",
    "    #print(A.shape)\n",
    "    if A.shape[0]==1:\n",
    "        return A[0,0]\n",
    "    if A.shape[0]==2:\n",
    "        return A[0,0]*A[1,1]-A[0,1]*A[1,0]\n",
    "    i=0\n",
    "    dt=0.\n",
    "    for j in range(A.shape[0]):\n",
    "        dt+=np.power(-1,i+j)*A[i,j]*det(mineur(A,i,j,A.shape[0]))\n",
    "    return dt\n"
   ]
  },
  {
   "cell_type": "code",
   "execution_count": 10,
   "id": "8037cd3b",
   "metadata": {},
   "outputs": [],
   "source": [
    "def test(A):\n",
    "    res=np.linalg.det(A)\n",
    "    print('With mumpy:',res)\n",
    "    res=det(A)\n",
    "    print('With my method:',res)\n",
    "    "
   ]
  },
  {
   "cell_type": "code",
   "execution_count": 11,
   "id": "10c827f9",
   "metadata": {},
   "outputs": [
    {
     "name": "stdout",
     "output_type": "stream",
     "text": [
      "With mumpy: -2.0000000000000004\n",
      "With my method: -2\n"
     ]
    }
   ],
   "source": [
    "A=np.arange(1,5).reshape((2,2))\n",
    "test(A)"
   ]
  },
  {
   "cell_type": "code",
   "execution_count": 12,
   "id": "79db8ae3",
   "metadata": {},
   "outputs": [
    {
     "name": "stdout",
     "output_type": "stream",
     "text": [
      "With mumpy: 0.0\n",
      "With my method: 0.0\n"
     ]
    }
   ],
   "source": [
    "B=np.arange(1,10).reshape((3,3))\n",
    "test(B)"
   ]
  },
  {
   "cell_type": "code",
   "execution_count": 13,
   "id": "4386caee",
   "metadata": {},
   "outputs": [
    {
     "name": "stdout",
     "output_type": "stream",
     "text": [
      "With mumpy: -92.00000000000001\n",
      "With my method: -92.0\n"
     ]
    }
   ],
   "source": [
    "C=np.array([2,-1,4,3,5,0,7,4,0]).reshape((3,3))\n",
    "test(C)"
   ]
  },
  {
   "cell_type": "code",
   "execution_count": 14,
   "id": "24aab07b",
   "metadata": {},
   "outputs": [
    {
     "name": "stdout",
     "output_type": "stream",
     "text": [
      "With mumpy: 0.0\n",
      "With my method: 0.0\n"
     ]
    }
   ],
   "source": [
    "D=np.arange(1,17).reshape((4,4))\n",
    "test(D)"
   ]
  },
  {
   "cell_type": "code",
   "execution_count": 15,
   "id": "8dbfd2ee",
   "metadata": {},
   "outputs": [
    {
     "name": "stdout",
     "output_type": "stream",
     "text": [
      "[30 44 74 18 38 89 19 70 83 21 43 30 93 65 26 62 68 29 14 15 59 96 54 72\n",
      " 63]\n",
      "[[30 44 74 18 38]\n",
      " [89 19 70 83 21]\n",
      " [43 30 93 65 26]\n",
      " [62 68 29 14 15]\n",
      " [59 96 54 72 63]]\n",
      "With mumpy: -559851054.0000013\n",
      "With my method: -559851054.0\n"
     ]
    }
   ],
   "source": [
    "unif=np.random.randint(0,100,25)\n",
    "print(unif)\n",
    "E=unif.reshape((5,5))\n",
    "print(E)\n",
    "test(E)"
   ]
  },
  {
   "cell_type": "code",
   "execution_count": 21,
   "id": "2c41dc9d",
   "metadata": {},
   "outputs": [
    {
     "name": "stdout",
     "output_type": "stream",
     "text": [
      "With mumpy: -2.3389671972701e-111\n",
      "With my method: 0.0\n",
      "Duration: 15.757331132888794 seconds\n"
     ]
    }
   ],
   "source": [
    "F=np.arange(1,101).reshape((10,10))\n",
    "import time\n",
    "start=time.time()\n",
    "test(F) #cramer becomes late\n",
    "end=time.time()\n",
    "print('Duration:',end-start,'seconds')"
   ]
  },
  {
   "cell_type": "code",
   "execution_count": 17,
   "id": "c4dc0baa",
   "metadata": {},
   "outputs": [
    {
     "data": {
      "text/plain": [
       "0.0"
      ]
     },
     "execution_count": 17,
     "metadata": {},
     "output_type": "execute_result"
    }
   ],
   "source": [
    "G=np.arange(1,10001).reshape((100,100))\n",
    "#test(G)   so so so late, please do not uncomment\n",
    "\n",
    "#det(G) Cramer, so so so late\n",
    "np.linalg.det(G)"
   ]
  },
  {
   "cell_type": "code",
   "execution_count": 18,
   "id": "e6cc714f",
   "metadata": {},
   "outputs": [
    {
     "data": {
      "text/plain": [
       "0.0"
      ]
     },
     "execution_count": 18,
     "metadata": {},
     "output_type": "execute_result"
    }
   ],
   "source": [
    "G=np.arange(1,1000001).reshape((1000,1000))\n",
    "np.linalg.det(G)"
   ]
  },
  {
   "cell_type": "code",
   "execution_count": 22,
   "id": "82f36ca7",
   "metadata": {},
   "outputs": [
    {
     "data": {
      "text/plain": [
       "array([[ 1.],\n",
       "       [-3.],\n",
       "       [ 4.]])"
      ]
     },
     "execution_count": 22,
     "metadata": {},
     "output_type": "execute_result"
    }
   ],
   "source": [
    "def substitute_column(A,B,col):\n",
    "    res=A.copy()\n",
    "    res[:,col:col+1]=B.copy()\n",
    "    return res\n",
    "    \n",
    "def cramer(A,B):\n",
    "    x=np.zeros((A.shape[0],1))\n",
    "    mat=0\n",
    "    d=det(A)\n",
    "    for j in range(A.shape[0]):\n",
    "        mat=substitute_column(A,B,j)\n",
    "        x[j]=det(mat)/d\n",
    "    return x\n",
    "A=np.array([2,5,3,1,4,2,7,1,-2]).reshape((3,3))\n",
    "B=np.array([[-1],[-3],[-4]])\n",
    "cramer(A,B)"
   ]
  }
 ],
 "metadata": {
  "kernelspec": {
   "display_name": "Python 3 (ipykernel)",
   "language": "python",
   "name": "python3"
  },
  "language_info": {
   "codemirror_mode": {
    "name": "ipython",
    "version": 3
   },
   "file_extension": ".py",
   "mimetype": "text/x-python",
   "name": "python",
   "nbconvert_exporter": "python",
   "pygments_lexer": "ipython3",
   "version": "3.10.12"
  }
 },
 "nbformat": 4,
 "nbformat_minor": 5
}
