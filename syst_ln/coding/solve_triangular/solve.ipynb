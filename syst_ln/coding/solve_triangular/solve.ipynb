{
 "cells": [
  {
   "cell_type": "code",
   "execution_count": 5,
   "id": "6c97651d",
   "metadata": {},
   "outputs": [
    {
     "name": "stdout",
     "output_type": "stream",
     "text": [
      "[[-1.]\n",
      " [ 2.]\n",
      " [ 6.]]\n"
     ]
    }
   ],
   "source": [
    "import numpy as np\n",
    "def solve(A,B):\n",
    "    n=A.shape[0]\n",
    "    X=np.zeros((n,1))\n",
    "    X[n-1]=B[n-1]/A[n-1,n-1]\n",
    "    for i in range(n-2,-1,-1):\n",
    "        S=0\n",
    "        for j in range(i,n):\n",
    "            S+=A[i,j]*X[j]\n",
    "        X[i]=(B[i]-S)/A[i,i]\n",
    "    return X\n",
    "\n",
    "if __name__ == \"__main__\":\n",
    "    A=np.array([2,4,-3,0,5,-1,0,0,3]).reshape((3,3))\n",
    "    B=np.array([[-12],[4],[18]])\n",
    "    X=solve(A,B)\n",
    "    print(X)\n",
    "    A@X"
   ]
  }
 ],
 "metadata": {
  "kernelspec": {
   "display_name": "Python 3 (ipykernel)",
   "language": "python",
   "name": "python3"
  },
  "language_info": {
   "codemirror_mode": {
    "name": "ipython",
    "version": 3
   },
   "file_extension": ".py",
   "mimetype": "text/x-python",
   "name": "python",
   "nbconvert_exporter": "python",
   "pygments_lexer": "ipython3",
   "version": "3.10.12"
  }
 },
 "nbformat": 4,
 "nbformat_minor": 5
}
