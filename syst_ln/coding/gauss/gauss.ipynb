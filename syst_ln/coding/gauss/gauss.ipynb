{
 "cells": [
  {
   "cell_type": "code",
   "execution_count": 37,
   "id": "a95410cd",
   "metadata": {},
   "outputs": [],
   "source": [
    "import numpy as np\n",
    "\n",
    "        \n",
    "def solve_triangular(A,B):\n",
    "    A=A.astype(float).copy()\n",
    "    B=B.astype(float).copy()\n",
    "    n=A.shape[0]\n",
    "    X=np.zeros((n,1))\n",
    "    X[n-1]=B[n-1]/A[n-1,n-1]\n",
    "    for i in range(n-2,-1,-1):\n",
    "        S=0\n",
    "        for j in range(i,n):\n",
    "            S+=A[i,j]*X[j]\n",
    "        X[i]=(B[i]-S)/A[i,i]\n",
    "    return X\n",
    "\n",
    "def gauss(A,B):\n",
    "    n=A.shape[0]\n",
    "    X=np.zeros((n,1))\n",
    "    Aprime=A.copy()\n",
    "    Bprime=B.copy()\n",
    "    \n",
    "    for k in range(n-1):\n",
    "        for j in range(k+1,n):\n",
    "            pivot=Aprime[k,k]\n",
    "            \n",
    "            if pivot==0:\n",
    "                \n",
    "            \n",
    "                max_index=np.argmax(np.abs(Aprime[j:n,k]))\n",
    "                real_max_index=max_index+j\n",
    "                \n",
    "                Aprime[k],Aprime[real_max_index]=Aprime[real_max_index].copy(),Aprime[k].copy()\n",
    "                Bprime[k],Bprime[real_max_index]=Bprime[real_max_index].copy(),Bprime[k].copy()\n",
    "                pivot=Aprime[k,k]\n",
    "        \n",
    "                #print(Bprime)\n",
    "            print([j,k])\n",
    "            alpha=Aprime[j,k]/pivot\n",
    "            print(alpha)\n",
    "        \n",
    "            Aprime[j]=Aprime[j]-alpha*Aprime[k]\n",
    "        \n",
    "            Bprime[j]=Bprime[j]-alpha*Bprime[k]\n",
    "            print(Aprime)\n",
    "            print(Bprime)\n",
    "            \n",
    "    #print(Aprime)\n",
    "    #print(Bprime)\n",
    "            \n",
    "    return solve_triangular(Aprime,Bprime)"
   ]
  },
  {
   "cell_type": "code",
   "execution_count": 24,
   "id": "cfd14ad3",
   "metadata": {},
   "outputs": [
    {
     "name": "stdout",
     "output_type": "stream",
     "text": [
      "2.0\n",
      "[[ 4]\n",
      " [-3]\n",
      " [ 1]]\n",
      "3.0\n",
      "[[  4]\n",
      " [ -3]\n",
      " [-11]]\n",
      "1.0\n",
      "[[ 4]\n",
      " [-3]\n",
      " [-8]]\n",
      "[[-7.]\n",
      " [-7.]\n",
      " [ 4.]]\n"
     ]
    },
    {
     "data": {
      "text/plain": [
       "array([[4.],\n",
       "       [5.],\n",
       "       [1.]])"
      ]
     },
     "execution_count": 24,
     "metadata": {},
     "output_type": "execute_result"
    }
   ],
   "source": [
    "A=np.array([1,-1,1,2,-1,3,3,-2,2]).reshape((3,3))\n",
    "B=np.array([[4],[5],[1]])\n",
    "X=gauss(A,B)\n",
    "print(X)\n",
    "A@X"
   ]
  },
  {
   "cell_type": "code",
   "execution_count": 25,
   "id": "0428256e",
   "metadata": {},
   "outputs": [
    {
     "name": "stdout",
     "output_type": "stream",
     "text": [
      "0.5\n",
      "[[-5. ]\n",
      " [-7.5]\n",
      " [ 2. ]]\n",
      "1.5\n",
      "[[-5. ]\n",
      " [-7.5]\n",
      " [ 9.5]]\n",
      "-0.3333333333333333\n",
      "[[-5. ]\n",
      " [-7.5]\n",
      " [ 7. ]]\n",
      "[[ 1.]\n",
      " [-2.]\n",
      " [ 3.]]\n"
     ]
    },
    {
     "data": {
      "text/plain": [
       "array([[ -5.],\n",
       "       [-10.],\n",
       "       [  2.]])"
      ]
     },
     "execution_count": 25,
     "metadata": {},
     "output_type": "execute_result"
    }
   ],
   "source": [
    "A=np.array([\n",
    "            2,2,-1,\n",
    "            1,4,-1,\n",
    "            3,2,1]\n",
    "    ,dtype=float\n",
    ").reshape((3,3))\n",
    "\n",
    "B=np.array([[-5],[-10],[2]]\n",
    "           ,dtype=float\n",
    "          )\n",
    "X=gauss(A,B)\n",
    "\n",
    "print(X)\n",
    "A@X"
   ]
  },
  {
   "cell_type": "code",
   "execution_count": 30,
   "id": "5e882cea",
   "metadata": {},
   "outputs": [
    {
     "name": "stdout",
     "output_type": "stream",
     "text": [
      "1.5\n",
      "[[ 2.   1.   2.  -3. ]\n",
      " [ 0.  -3.5 -2.   3.5]\n",
      " [ 1.   1.  -1.  -1. ]\n",
      " [ 1.  -1.   3.  -1. ]]\n",
      "[[ 18.]\n",
      " [-15.]\n",
      " [  1.]\n",
      " [ 15.]]\n",
      "0.5\n",
      "[[ 2.   1.   2.  -3. ]\n",
      " [ 0.  -3.5 -2.   3.5]\n",
      " [ 0.   0.5 -2.   0.5]\n",
      " [ 1.  -1.   3.  -1. ]]\n",
      "[[ 18.]\n",
      " [-15.]\n",
      " [ -8.]\n",
      " [ 15.]]\n",
      "0.5\n",
      "[[ 2.   1.   2.  -3. ]\n",
      " [ 0.  -3.5 -2.   3.5]\n",
      " [ 0.   0.5 -2.   0.5]\n",
      " [ 0.  -1.5  2.   0.5]]\n",
      "[[ 18.]\n",
      " [-15.]\n",
      " [ -8.]\n",
      " [  6.]]\n",
      "-0.14285714285714285\n",
      "[[ 2.          1.          2.         -3.        ]\n",
      " [ 0.         -3.5        -2.          3.5       ]\n",
      " [ 0.          0.         -2.28571429  1.        ]\n",
      " [ 0.         -1.5         2.          0.5       ]]\n",
      "[[ 18.        ]\n",
      " [-15.        ]\n",
      " [-10.14285714]\n",
      " [  6.        ]]\n",
      "0.42857142857142855\n",
      "[[ 2.          1.          2.         -3.        ]\n",
      " [ 0.         -3.5        -2.          3.5       ]\n",
      " [ 0.          0.         -2.28571429  1.        ]\n",
      " [ 0.          0.          2.85714286 -1.        ]]\n",
      "[[ 18.        ]\n",
      " [-15.        ]\n",
      " [-10.14285714]\n",
      " [ 12.42857143]]\n",
      "-1.25\n",
      "[[ 2.00000000e+00  1.00000000e+00  2.00000000e+00 -3.00000000e+00]\n",
      " [ 0.00000000e+00 -3.50000000e+00 -2.00000000e+00  3.50000000e+00]\n",
      " [ 0.00000000e+00  0.00000000e+00 -2.28571429e+00  1.00000000e+00]\n",
      " [ 0.00000000e+00  0.00000000e+00  4.44089210e-16  2.50000000e-01]]\n",
      "[[ 18.        ]\n",
      " [-15.        ]\n",
      " [-10.14285714]\n",
      " [ -0.25      ]]\n",
      "[[ 3.]\n",
      " [ 1.]\n",
      " [ 4.]\n",
      " [-1.]]\n"
     ]
    },
    {
     "data": {
      "text/plain": [
       "array([[18.],\n",
       "       [12.],\n",
       "       [ 1.],\n",
       "       [15.]])"
      ]
     },
     "execution_count": 30,
     "metadata": {},
     "output_type": "execute_result"
    }
   ],
   "source": [
    "A=np.array([2,1,2,-3,3,-2,1,-1,1,1,-1,-1,1,-1,3,-1],dtype=float).reshape((4,4))\n",
    "B=np.array([[18],[12],[1],[15]],dtype=float)\n",
    "X=gauss(A,B)\n",
    "print(X)\n",
    "A@X"
   ]
  },
  {
   "cell_type": "code",
   "execution_count": 38,
   "id": "e99fc09f",
   "metadata": {},
   "outputs": [
    {
     "name": "stdout",
     "output_type": "stream",
     "text": [
      "[1, 0]\n",
      "0.8333333333333334\n",
      "[[ 6.          8.          1.        ]\n",
      " [ 0.         -4.66666667  2.16666667]\n",
      " [ 0.          1.          3.        ]]\n",
      "[[1.        ]\n",
      " [3.16666667]\n",
      " [1.        ]]\n",
      "[2, 0]\n",
      "0.0\n",
      "[[ 6.          8.          1.        ]\n",
      " [ 0.         -4.66666667  2.16666667]\n",
      " [ 0.          1.          3.        ]]\n",
      "[[1.        ]\n",
      " [3.16666667]\n",
      " [1.        ]]\n",
      "[2, 1]\n",
      "-0.21428571428571427\n",
      "[[ 6.          8.          1.        ]\n",
      " [ 0.         -4.66666667  2.16666667]\n",
      " [ 0.          0.          3.46428571]]\n",
      "[[1.        ]\n",
      " [3.16666667]\n",
      " [1.67857143]]\n"
     ]
    }
   ],
   "source": [
    "A=np.array([\n",
    "            0,1,3,\n",
    "            5,2,3,\n",
    "            6,8,1]\n",
    "    ,dtype=float\n",
    ").reshape((3,3))\n",
    "\n",
    "B=np.array([[1],[4],[1]]\n",
    "           ,dtype=float\n",
    "          )\n",
    "X=gauss(A,B)\n",
    "\n",
    "#print(X)\n",
    "#A@X"
   ]
  },
  {
   "cell_type": "code",
   "execution_count": null,
   "id": "9f734de1",
   "metadata": {},
   "outputs": [],
   "source": []
  },
  {
   "cell_type": "code",
   "execution_count": null,
   "id": "b462b267",
   "metadata": {},
   "outputs": [],
   "source": []
  }
 ],
 "metadata": {
  "kernelspec": {
   "display_name": "Python 3 (ipykernel)",
   "language": "python",
   "name": "python3"
  },
  "language_info": {
   "codemirror_mode": {
    "name": "ipython",
    "version": 3
   },
   "file_extension": ".py",
   "mimetype": "text/x-python",
   "name": "python",
   "nbconvert_exporter": "python",
   "pygments_lexer": "ipython3",
   "version": "3.10.12"
  }
 },
 "nbformat": 4,
 "nbformat_minor": 5
}
